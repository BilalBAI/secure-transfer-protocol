{
 "cells": [
  {
   "cell_type": "code",
   "execution_count": 1,
   "metadata": {},
   "outputs": [],
   "source": [
    "from web3 import Web3\n",
    "import json\n",
    "infura_url = 'https://mainnet.infura.io/v3/53da8c1e7a914f4288c2a64f6ce3d6dd'\n",
    "# https://www.dappuniversity.com/articles/web3-py-intro"
   ]
  },
  {
   "cell_type": "code",
   "execution_count": 2,
   "metadata": {},
   "outputs": [
    {
     "name": "stdout",
     "output_type": "stream",
     "text": [
      "True\n",
      "18199327\n"
     ]
    }
   ],
   "source": [
    "web3 = Web3(Web3.HTTPProvider(infura_url))\n",
    "print(web3.isConnected())\n",
    "print(web3.eth.blockNumber)"
   ]
  },
  {
   "cell_type": "markdown",
   "metadata": {},
   "source": [
    "# Check account balance"
   ]
  },
  {
   "cell_type": "code",
   "execution_count": 3,
   "metadata": {},
   "outputs": [
    {
     "data": {
      "text/plain": [
       "1.306668949020058"
      ]
     },
     "execution_count": 3,
     "metadata": {},
     "output_type": "execute_result"
    }
   ],
   "source": [
    "account = '0x792888E555d3f08C61b007500fe8A3d8E5aD24D8'\n",
    "balance = web3.eth.getBalance(account)\n",
    "balance/10**18"
   ]
  },
  {
   "cell_type": "markdown",
   "metadata": {},
   "source": [
    "# Connect to Smart Contract (CryptoKitties (CK))"
   ]
  },
  {
   "cell_type": "code",
   "execution_count": 8,
   "metadata": {},
   "outputs": [],
   "source": [
    "abi = json.load(open('./abi.json'))\n",
    "address = \"0x06012c8cf97BEaD5deAe237070F9587f8E7A266d\""
   ]
  },
  {
   "cell_type": "code",
   "execution_count": 9,
   "metadata": {},
   "outputs": [
    {
     "name": "stdout",
     "output_type": "stream",
     "text": [
      "2.023262E-12\n"
     ]
    }
   ],
   "source": [
    "contract = web3.eth.contract(address=address, abi=abi)\n",
    "totalSupply = contract.functions.totalSupply().call()\n",
    "print(web3.fromWei(totalSupply, 'ether'))"
   ]
  },
  {
   "cell_type": "code",
   "execution_count": 11,
   "metadata": {},
   "outputs": [
    {
     "data": {
      "text/plain": [
       "<web3._utils.empty.Empty at 0x7ff6d8cee7f0>"
      ]
     },
     "execution_count": 11,
     "metadata": {},
     "output_type": "execute_result"
    }
   ],
   "source": [
    "web3.eth.defaultAccount"
   ]
  },
  {
   "cell_type": "markdown",
   "metadata": {},
   "source": [
    "# Deploy SC\n"
   ]
  },
  {
   "cell_type": "code",
   "execution_count": null,
   "metadata": {},
   "outputs": [],
   "source": [
    "# Set up web3 connection with Ganache\n",
    "web3 = Web3(Web3.HTTPProvider(infura_url))\n",
    "\n",
    "abi = json.loads(\"\")\n",
    "bytecode = \"\"\n",
    "\n",
    "# set pre-funded account as sender\n",
    "web3.eth.defaultAccount = web3.eth.accounts[0]\n",
    "\n",
    "# Instantiate and deploy contract\n",
    "Greeter = web3.eth.contract(abi=abi, bytecode=bytecode)\n",
    "\n",
    "# Submit the transaction that deploys the contract\n",
    "tx_hash = Greeter.constructor().transact()\n",
    "\n",
    "# Wait for the transaction to be mined, and get the transaction receipt\n",
    "tx_receipt = web3.eth.waitForTransactionReceipt(tx_hash)\n",
    "\n",
    "# Create the contract instance with the newly-deployed address\n",
    "contract = web3.eth.contract(\n",
    "    address=tx_receipt.contractAddress,\n",
    "    abi=abi,\n",
    ")\n",
    "\n",
    "print(tx_receipt.contractAddress)\n",
    "\n",
    "# Display the default greeting from the contract\n",
    "print('Default contract greeting: {}'.format(\n",
    "    contract.functions.greet().call()\n",
    "))\n",
    "\n",
    "# update the greeting\n",
    "tx_hash = contract.functions.setGreeting('HELLOOOO!!!!').transact()\n",
    "\n",
    "# # Wait for transaction to be mined...\n",
    "web3.eth.waitForTransactionReceipt(tx_hash)\n",
    "\n",
    "# Display the new greeting value\n",
    "print('Updated contract greeting: {}'.format(\n",
    "    contract.functions.greet().call()\n",
    "))"
   ]
  },
  {
   "cell_type": "code",
   "execution_count": null,
   "metadata": {},
   "outputs": [],
   "source": [
    "w3 = Web3(Web3.HTTPProvider(\"https://ropsten.infura.io/v3/YOUR_PROJECT_ID\"))\n",
    "\n",
    "contract_ = w3.eth.contract(\n",
    "    abi=contract_interface['abi'],\n",
    "    bytecode=contract_interface['bin'])\n",
    "\n",
    "acct = w3.eth.account.privateKeyToAccount(privateKey)\n",
    "\n",
    "construct_txn = contract_.constructor().buildTransaction({\n",
    "    'from': acct.address,\n",
    "    'nonce': w3.eth.getTransactionCount(acct.address),\n",
    "    'gas': 1728712,\n",
    "    'gasPrice': w3.toWei('21', 'gwei')})\n",
    "\n",
    "signed = acct.signTransaction(construct_txn)\n",
    "\n",
    "w3.eth.sendRawTransaction(signed.rawTransaction)"
   ]
  }
 ],
 "metadata": {
  "kernelspec": {
   "display_name": "base",
   "language": "python",
   "name": "python3"
  },
  "language_info": {
   "codemirror_mode": {
    "name": "ipython",
    "version": 3
   },
   "file_extension": ".py",
   "mimetype": "text/x-python",
   "name": "python",
   "nbconvert_exporter": "python",
   "pygments_lexer": "ipython3",
   "version": "3.8.8"
  },
  "orig_nbformat": 4
 },
 "nbformat": 4,
 "nbformat_minor": 2
}
